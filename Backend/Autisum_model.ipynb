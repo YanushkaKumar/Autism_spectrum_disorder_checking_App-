{
  "cells": [
    {
      "cell_type": "code",
      "execution_count": 16,
      "metadata": {
        "id": "c7cCAIx5Xnmr"
      },
      "outputs": [],
      "source": [
        "import pandas as pd\n",
        "import tensorflow as tf\n",
        "from keras.models import Sequential\n",
        "from keras.layers import Dense, Dropout\n",
        "from sklearn.model_selection import train_test_split\n",
        "from sklearn.preprocessing import StandardScaler\n",
        "import joblib"
      ]
    },
    {
      "cell_type": "code",
      "execution_count": 4,
      "metadata": {
        "id": "4a0T3s49YRCS"
      },
      "outputs": [],
      "source": [
        "df = pd.read_excel('Dataset.xlsx')"
      ]
    },
    {
      "cell_type": "code",
      "execution_count": 5,
      "metadata": {
        "colab": {
          "base_uri": "https://localhost:8080/"
        },
        "id": "X16Ci0DaYj0i",
        "outputId": "b9d93c5e-930b-42fe-a692-72006d8e2d01"
      },
      "outputs": [
        {
          "name": "stdout",
          "output_type": "stream",
          "text": [
            "    ID  Age  Word_Count    Autism\n",
            "0  714    3          47  positive\n",
            "1  568    3          51  negative\n",
            "2  855    4          53  negative\n",
            "3  427    4          22  positive\n",
            "4  428    4          21  positive\n"
          ]
        }
      ],
      "source": [
        "print(df.head())"
      ]
    },
    {
      "cell_type": "code",
      "execution_count": 6,
      "metadata": {
        "colab": {
          "base_uri": "https://localhost:8080/"
        },
        "id": "WMqyDPBhbbfw",
        "outputId": "d0547b31-a1ea-4e53-a7fa-3e53ec3ef0da"
      },
      "outputs": [
        {
          "name": "stdout",
          "output_type": "stream",
          "text": [
            "ID            0\n",
            "Age           0\n",
            "Word_Count    0\n",
            "Autism        0\n",
            "dtype: int64\n"
          ]
        }
      ],
      "source": [
        "null_values = df.isnull().sum()\n",
        "print(null_values)"
      ]
    },
    {
      "cell_type": "code",
      "execution_count": 7,
      "metadata": {
        "colab": {
          "base_uri": "https://localhost:8080/"
        },
        "id": "kq5KVgpKd_58",
        "outputId": "ce706c4f-1986-4bb6-bb5d-4f769b91d3f2"
      },
      "outputs": [
        {
          "name": "stdout",
          "output_type": "stream",
          "text": [
            "<class 'pandas.core.frame.DataFrame'>\n",
            "RangeIndex: 999 entries, 0 to 998\n",
            "Data columns (total 4 columns):\n",
            " #   Column      Non-Null Count  Dtype \n",
            "---  ------      --------------  ----- \n",
            " 0   ID          999 non-null    int64 \n",
            " 1   Age         999 non-null    int64 \n",
            " 2   Word_Count  999 non-null    int64 \n",
            " 3   Autism      999 non-null    object\n",
            "dtypes: int64(3), object(1)\n",
            "memory usage: 31.3+ KB\n"
          ]
        }
      ],
      "source": [
        "# viwe more information about dataset\n",
        "df.info()"
      ]
    },
    {
      "cell_type": "code",
      "execution_count": 8,
      "metadata": {
        "id": "znYS7WsjZhuh"
      },
      "outputs": [],
      "source": [
        "# Split the dataset into features (X) and target (y)\n",
        "X =df.drop(columns=['ID','Autism'])\n",
        "y = df['Autism'].map({'positive': 1, 'negative': 0}).values"
      ]
    },
    {
      "cell_type": "code",
      "execution_count": 9,
      "metadata": {
        "id": "kEEE0CnvY6Nw"
      },
      "outputs": [],
      "source": [
        "X_train, X_test, y_train, y_test = train_test_split(X, y, test_size=0.2, random_state=42)"
      ]
    },
    {
      "cell_type": "code",
      "execution_count": 10,
      "metadata": {
        "id": "whyNBNg0Z1KO"
      },
      "outputs": [],
      "source": [
        "# Standardize the input features \n",
        "scaler = StandardScaler()\n",
        "X_train = scaler.fit_transform(X_train)\n",
        "X_test = scaler.transform(X_test)"
      ]
    },
    {
      "cell_type": "code",
      "execution_count": 17,
      "metadata": {},
      "outputs": [
        {
          "data": {
            "text/plain": [
              "['standard_scaler.pkl']"
            ]
          },
          "execution_count": 17,
          "metadata": {},
          "output_type": "execute_result"
        }
      ],
      "source": [
        "# Save the scaler to a file\n",
        "joblib.dump(scaler, 'standard_scaler.pkl')"
      ]
    },
    {
      "cell_type": "code",
      "execution_count": 11,
      "metadata": {
        "id": "EkgalXEZbjsg"
      },
      "outputs": [],
      "source": [
        "model = Sequential()\n",
        "\n",
        "# Input layer\n",
        "model.add(Dense(units=256, activation='relu', input_dim=2))\n",
        "model.add(Dropout(0.2))  # Adding dropout to the input layer\n",
        "\n",
        "# Hidden layers\n",
        "model.add(Dense(units=128, activation='relu'))  # Increase units and add another hidden layer\n",
        "model.add(Dropout(0.3))  # Adding dropout after the first hidden layer\n",
        "\n",
        "# Hidden layers\n",
        "model.add(Dense(units=64, activation='relu'))  # Increase units and add another hidden layer\n",
        "model.add(Dropout(0.3))  # Adding dropout after the second hidden layer\n",
        "\n",
        "model.add(Dense(units=32, activation='relu'))  # Adding another hidden layer\n",
        "model.add(Dropout(0.3))  # Adding dropout after the Third hidden layer\n",
        "\n",
        "# Output layer\n",
        "model.add(Dense(1, activation='sigmoid'))"
      ]
    },
    {
      "cell_type": "code",
      "execution_count": 12,
      "metadata": {
        "id": "fIv6TYezbst-"
      },
      "outputs": [],
      "source": [
        "# Compile the model\n",
        "model.compile(optimizer='adam', loss='binary_crossentropy', metrics=['accuracy'])"
      ]
    },
    {
      "cell_type": "code",
      "execution_count": 13,
      "metadata": {
        "colab": {
          "base_uri": "https://localhost:8080/"
        },
        "id": "EtbjQL9pbvC-",
        "outputId": "094c5054-2a6c-4b4d-9435-e44e4cef86a0"
      },
      "outputs": [
        {
          "name": "stdout",
          "output_type": "stream",
          "text": [
            "Epoch 1/50\n",
            "20/20 [==============================] - 12s 109ms/step - loss: 0.5965 - accuracy: 0.7590 - val_loss: 0.4105 - val_accuracy: 0.9062\n",
            "Epoch 2/50\n",
            "20/20 [==============================] - 0s 22ms/step - loss: 0.4183 - accuracy: 0.8153 - val_loss: 0.2673 - val_accuracy: 0.8875\n",
            "Epoch 3/50\n",
            "20/20 [==============================] - 0s 22ms/step - loss: 0.3667 - accuracy: 0.8075 - val_loss: 0.2489 - val_accuracy: 0.8938\n",
            "Epoch 4/50\n",
            "20/20 [==============================] - 0s 24ms/step - loss: 0.3531 - accuracy: 0.8341 - val_loss: 0.2473 - val_accuracy: 0.8938\n",
            "Epoch 5/50\n",
            "20/20 [==============================] - 1s 27ms/step - loss: 0.3364 - accuracy: 0.8232 - val_loss: 0.2516 - val_accuracy: 0.8938\n",
            "Epoch 6/50\n",
            "20/20 [==============================] - 0s 23ms/step - loss: 0.3303 - accuracy: 0.8341 - val_loss: 0.2413 - val_accuracy: 0.9125\n",
            "Epoch 7/50\n",
            "20/20 [==============================] - 1s 30ms/step - loss: 0.3258 - accuracy: 0.8372 - val_loss: 0.2389 - val_accuracy: 0.9000\n",
            "Epoch 8/50\n",
            "20/20 [==============================] - 0s 22ms/step - loss: 0.3168 - accuracy: 0.8388 - val_loss: 0.2418 - val_accuracy: 0.9000\n",
            "Epoch 9/50\n",
            "20/20 [==============================] - 0s 18ms/step - loss: 0.3164 - accuracy: 0.8388 - val_loss: 0.2409 - val_accuracy: 0.9125\n",
            "Epoch 10/50\n",
            "20/20 [==============================] - 1s 39ms/step - loss: 0.3232 - accuracy: 0.8451 - val_loss: 0.2391 - val_accuracy: 0.9000\n",
            "Epoch 11/50\n",
            "20/20 [==============================] - 0s 20ms/step - loss: 0.3092 - accuracy: 0.8482 - val_loss: 0.2349 - val_accuracy: 0.9125\n",
            "Epoch 12/50\n",
            "20/20 [==============================] - 0s 20ms/step - loss: 0.3114 - accuracy: 0.8451 - val_loss: 0.2374 - val_accuracy: 0.9000\n",
            "Epoch 13/50\n",
            "20/20 [==============================] - 0s 24ms/step - loss: 0.3091 - accuracy: 0.8451 - val_loss: 0.2349 - val_accuracy: 0.9000\n",
            "Epoch 14/50\n",
            "20/20 [==============================] - 0s 21ms/step - loss: 0.3084 - accuracy: 0.8466 - val_loss: 0.2406 - val_accuracy: 0.9125\n",
            "Epoch 15/50\n",
            "20/20 [==============================] - 0s 20ms/step - loss: 0.3054 - accuracy: 0.8482 - val_loss: 0.2374 - val_accuracy: 0.9000\n",
            "Epoch 16/50\n",
            "20/20 [==============================] - 0s 20ms/step - loss: 0.3149 - accuracy: 0.8435 - val_loss: 0.2455 - val_accuracy: 0.9125\n",
            "Epoch 17/50\n",
            "20/20 [==============================] - 1s 32ms/step - loss: 0.2988 - accuracy: 0.8451 - val_loss: 0.2344 - val_accuracy: 0.9125\n",
            "Epoch 18/50\n",
            "20/20 [==============================] - 0s 17ms/step - loss: 0.3029 - accuracy: 0.8404 - val_loss: 0.2341 - val_accuracy: 0.9125\n",
            "Epoch 19/50\n",
            "20/20 [==============================] - 0s 19ms/step - loss: 0.2977 - accuracy: 0.8482 - val_loss: 0.2333 - val_accuracy: 0.9125\n",
            "Epoch 20/50\n",
            "20/20 [==============================] - 1s 27ms/step - loss: 0.2949 - accuracy: 0.8498 - val_loss: 0.2389 - val_accuracy: 0.9000\n",
            "Epoch 21/50\n",
            "20/20 [==============================] - 0s 22ms/step - loss: 0.2972 - accuracy: 0.8435 - val_loss: 0.2338 - val_accuracy: 0.9125\n",
            "Epoch 22/50\n",
            "20/20 [==============================] - 0s 22ms/step - loss: 0.3000 - accuracy: 0.8498 - val_loss: 0.2403 - val_accuracy: 0.9125\n",
            "Epoch 23/50\n",
            "20/20 [==============================] - 1s 24ms/step - loss: 0.2893 - accuracy: 0.8466 - val_loss: 0.2348 - val_accuracy: 0.9125\n",
            "Epoch 24/50\n",
            "20/20 [==============================] - 0s 20ms/step - loss: 0.2921 - accuracy: 0.8576 - val_loss: 0.2331 - val_accuracy: 0.9000\n",
            "Epoch 25/50\n",
            "20/20 [==============================] - 0s 17ms/step - loss: 0.2869 - accuracy: 0.8482 - val_loss: 0.2298 - val_accuracy: 0.9125\n",
            "Epoch 26/50\n",
            "20/20 [==============================] - 1s 29ms/step - loss: 0.2917 - accuracy: 0.8498 - val_loss: 0.2322 - val_accuracy: 0.9125\n",
            "Epoch 27/50\n",
            "20/20 [==============================] - 1s 41ms/step - loss: 0.2904 - accuracy: 0.8451 - val_loss: 0.2313 - val_accuracy: 0.9125\n",
            "Epoch 28/50\n",
            "20/20 [==============================] - 0s 25ms/step - loss: 0.2898 - accuracy: 0.8482 - val_loss: 0.2352 - val_accuracy: 0.9125\n",
            "Epoch 29/50\n",
            "20/20 [==============================] - 0s 19ms/step - loss: 0.2943 - accuracy: 0.8435 - val_loss: 0.2359 - val_accuracy: 0.9125\n",
            "Epoch 30/50\n",
            "20/20 [==============================] - 0s 23ms/step - loss: 0.2928 - accuracy: 0.8513 - val_loss: 0.2332 - val_accuracy: 0.9125\n",
            "Epoch 31/50\n",
            "20/20 [==============================] - 0s 23ms/step - loss: 0.2861 - accuracy: 0.8435 - val_loss: 0.2330 - val_accuracy: 0.9125\n",
            "Epoch 32/50\n",
            "20/20 [==============================] - 0s 21ms/step - loss: 0.2925 - accuracy: 0.8529 - val_loss: 0.2310 - val_accuracy: 0.9125\n",
            "Epoch 33/50\n",
            "20/20 [==============================] - 1s 32ms/step - loss: 0.2880 - accuracy: 0.8451 - val_loss: 0.2312 - val_accuracy: 0.9125\n",
            "Epoch 34/50\n",
            "20/20 [==============================] - 0s 14ms/step - loss: 0.2875 - accuracy: 0.8498 - val_loss: 0.2357 - val_accuracy: 0.9125\n",
            "Epoch 35/50\n",
            "20/20 [==============================] - 0s 15ms/step - loss: 0.2872 - accuracy: 0.8482 - val_loss: 0.2324 - val_accuracy: 0.9125\n",
            "Epoch 36/50\n",
            "20/20 [==============================] - 0s 19ms/step - loss: 0.2871 - accuracy: 0.8513 - val_loss: 0.2294 - val_accuracy: 0.9125\n",
            "Epoch 37/50\n",
            "20/20 [==============================] - 0s 17ms/step - loss: 0.2863 - accuracy: 0.8513 - val_loss: 0.2281 - val_accuracy: 0.9125\n",
            "Epoch 38/50\n",
            "20/20 [==============================] - 0s 16ms/step - loss: 0.2753 - accuracy: 0.8529 - val_loss: 0.2226 - val_accuracy: 0.9125\n",
            "Epoch 39/50\n",
            "20/20 [==============================] - 0s 15ms/step - loss: 0.2823 - accuracy: 0.8513 - val_loss: 0.2270 - val_accuracy: 0.9125\n",
            "Epoch 40/50\n",
            "20/20 [==============================] - 0s 15ms/step - loss: 0.2777 - accuracy: 0.8529 - val_loss: 0.2276 - val_accuracy: 0.9125\n",
            "Epoch 41/50\n",
            "20/20 [==============================] - 0s 16ms/step - loss: 0.2883 - accuracy: 0.8482 - val_loss: 0.2293 - val_accuracy: 0.9125\n",
            "Epoch 42/50\n",
            "20/20 [==============================] - 0s 16ms/step - loss: 0.2793 - accuracy: 0.8529 - val_loss: 0.2245 - val_accuracy: 0.9125\n",
            "Epoch 43/50\n",
            "20/20 [==============================] - 0s 16ms/step - loss: 0.2770 - accuracy: 0.8513 - val_loss: 0.2267 - val_accuracy: 0.9125\n",
            "Epoch 44/50\n",
            "20/20 [==============================] - 0s 18ms/step - loss: 0.2782 - accuracy: 0.8498 - val_loss: 0.2307 - val_accuracy: 0.9125\n",
            "Epoch 45/50\n",
            "20/20 [==============================] - 0s 16ms/step - loss: 0.2770 - accuracy: 0.8529 - val_loss: 0.2274 - val_accuracy: 0.9125\n",
            "Epoch 46/50\n",
            "20/20 [==============================] - 0s 17ms/step - loss: 0.2791 - accuracy: 0.8529 - val_loss: 0.2271 - val_accuracy: 0.9125\n",
            "Epoch 47/50\n",
            "20/20 [==============================] - 0s 15ms/step - loss: 0.2797 - accuracy: 0.8529 - val_loss: 0.2229 - val_accuracy: 0.9125\n",
            "Epoch 48/50\n",
            "20/20 [==============================] - 0s 17ms/step - loss: 0.2839 - accuracy: 0.8513 - val_loss: 0.2256 - val_accuracy: 0.9125\n",
            "Epoch 49/50\n",
            "20/20 [==============================] - 0s 16ms/step - loss: 0.2837 - accuracy: 0.8513 - val_loss: 0.2271 - val_accuracy: 0.9125\n",
            "Epoch 50/50\n",
            "20/20 [==============================] - 0s 16ms/step - loss: 0.2875 - accuracy: 0.8529 - val_loss: 0.2242 - val_accuracy: 0.9125\n"
          ]
        },
        {
          "data": {
            "text/plain": [
              "<keras.src.callbacks.History at 0x15046e42eb0>"
            ]
          },
          "execution_count": 13,
          "metadata": {},
          "output_type": "execute_result"
        }
      ],
      "source": [
        "# Train the model\n",
        "model.fit(X_train, y_train, epochs=50, batch_size=32, validation_split=0.2)\n"
      ]
    },
    {
      "cell_type": "code",
      "execution_count": 14,
      "metadata": {
        "colab": {
          "base_uri": "https://localhost:8080/"
        },
        "id": "yOyyJKR-bxT7",
        "outputId": "5bdc23e8-ffc2-461a-cc3a-36cd14a7eaff"
      },
      "outputs": [
        {
          "name": "stdout",
          "output_type": "stream",
          "text": [
            "7/7 [==============================] - 1s 4ms/step - loss: 0.3602 - accuracy: 0.8250\n",
            "Test Accuracy: 0.824999988079071\n"
          ]
        }
      ],
      "source": [
        "# Evaluate the model on the test data\n",
        "test_loss, test_accuracy = model.evaluate(X_test, y_test)\n",
        "print(f\"Test Accuracy: {test_accuracy}\")"
      ]
    },
    {
      "cell_type": "code",
      "execution_count": 15,
      "metadata": {},
      "outputs": [
        {
          "name": "stdout",
          "output_type": "stream",
          "text": [
            "INFO:tensorflow:Assets written to: Autism_Trained_model.pb\\assets\n"
          ]
        },
        {
          "name": "stderr",
          "output_type": "stream",
          "text": [
            "INFO:tensorflow:Assets written to: Autism_Trained_model.pb\\assets\n"
          ]
        }
      ],
      "source": [
        "model.save('Autism_Trained_model.pb')"
      ]
    }
  ],
  "metadata": {
    "colab": {
      "provenance": []
    },
    "kernelspec": {
      "display_name": "Python 3",
      "name": "python3"
    },
    "language_info": {
      "codemirror_mode": {
        "name": "ipython",
        "version": 3
      },
      "file_extension": ".py",
      "mimetype": "text/x-python",
      "name": "python",
      "nbconvert_exporter": "python",
      "pygments_lexer": "ipython3",
      "version": "3.9.0"
    }
  },
  "nbformat": 4,
  "nbformat_minor": 0
}
